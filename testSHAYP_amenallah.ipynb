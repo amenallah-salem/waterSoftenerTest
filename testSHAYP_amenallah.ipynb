{
  "nbformat": 4,
  "nbformat_minor": 0,
  "metadata": {
    "colab": {
      "name": "testSHAYP_amenallah.ipynb",
      "provenance": []
    },
    "kernelspec": {
      "name": "python3",
      "display_name": "Python 3"
    }
  },
  "cells": [
    {
      "cell_type": "markdown",
      "metadata": {
        "id": "nUIDOroUhIPb",
        "colab_type": "text"
      },
      "source": [
        "# water softener signal detection Test\n",
        "writen by : amenallah salem¹\n",
        "\n",
        " Test Goal:\n",
        "\n",
        "writing an algorithm wich count the number of occurrences of water softener running over the course \n",
        "\n",
        "\n",
        " amenallah.salem@dauphine.eu/ amenallah.salem@dauphine.tn \n",
        " "
      ]
    },
    {
      "cell_type": "markdown",
      "metadata": {
        "id": "e-NDRylYhSrr",
        "colab_type": "text"
      },
      "source": [
        "## Data preprocessing & data visualisation \n"
      ]
    },
    {
      "cell_type": "code",
      "metadata": {
        "id": "vITrafu8hDg4",
        "colab_type": "code",
        "colab": {}
      },
      "source": [
        "#Importing packages\n",
        "import numpy as np \n",
        "import pandas as pd \n",
        "import matplotlib.pyplot as plt\n",
        "import matplotlib.dates as md\n",
        "import seaborn as sns\n",
        "%matplotlib inline"
      ],
      "execution_count": 0,
      "outputs": []
    },
    {
      "cell_type": "code",
      "metadata": {
        "id": "G2igRiO6ghTw",
        "colab_type": "code",
        "outputId": "c84517ba-aaa2-4893-b51b-fb9a4704a92f",
        "colab": {
          "base_uri": "https://localhost:8080/",
          "height": 204
        }
      },
      "source": [
        "dataLink = 'https://raw.githubusercontent.com/amenallah-salem/waterSoftenerTest/master/expot.csv'\n",
        "#import the data set with simple two columns \n",
        "data = pd.read_csv(dataLink, usecols=['timestamp','pulses'], parse_dates=['timestamp'])\n",
        "#visualize the first 5 rows \n",
        "data.head()\n"
      ],
      "execution_count": 176,
      "outputs": [
        {
          "output_type": "execute_result",
          "data": {
            "text/html": [
              "<div>\n",
              "<style scoped>\n",
              "    .dataframe tbody tr th:only-of-type {\n",
              "        vertical-align: middle;\n",
              "    }\n",
              "\n",
              "    .dataframe tbody tr th {\n",
              "        vertical-align: top;\n",
              "    }\n",
              "\n",
              "    .dataframe thead th {\n",
              "        text-align: right;\n",
              "    }\n",
              "</style>\n",
              "<table border=\"1\" class=\"dataframe\">\n",
              "  <thead>\n",
              "    <tr style=\"text-align: right;\">\n",
              "      <th></th>\n",
              "      <th>timestamp</th>\n",
              "      <th>pulses</th>\n",
              "    </tr>\n",
              "  </thead>\n",
              "  <tbody>\n",
              "    <tr>\n",
              "      <th>0</th>\n",
              "      <td>2019-03-01 00:00:00</td>\n",
              "      <td>0</td>\n",
              "    </tr>\n",
              "    <tr>\n",
              "      <th>1</th>\n",
              "      <td>2019-03-01 00:06:00</td>\n",
              "      <td>1</td>\n",
              "    </tr>\n",
              "    <tr>\n",
              "      <th>2</th>\n",
              "      <td>2019-03-01 00:12:00</td>\n",
              "      <td>0</td>\n",
              "    </tr>\n",
              "    <tr>\n",
              "      <th>3</th>\n",
              "      <td>2019-03-01 00:18:00</td>\n",
              "      <td>0</td>\n",
              "    </tr>\n",
              "    <tr>\n",
              "      <th>4</th>\n",
              "      <td>2019-03-01 00:24:00</td>\n",
              "      <td>0</td>\n",
              "    </tr>\n",
              "  </tbody>\n",
              "</table>\n",
              "</div>"
            ],
            "text/plain": [
              "            timestamp  pulses\n",
              "0 2019-03-01 00:00:00       0\n",
              "1 2019-03-01 00:06:00       1\n",
              "2 2019-03-01 00:12:00       0\n",
              "3 2019-03-01 00:18:00       0\n",
              "4 2019-03-01 00:24:00       0"
            ]
          },
          "metadata": {
            "tags": []
          },
          "execution_count": 176
        }
      ]
    },
    {
      "cell_type": "code",
      "metadata": {
        "id": "EqPTDwfveAH_",
        "colab_type": "code",
        "outputId": "8a5677f9-67ed-4e8a-9c7e-99189aa59812",
        "colab": {
          "base_uri": "https://localhost:8080/",
          "height": 34
        }
      },
      "source": [
        "#see the data shape \n",
        "data.shape"
      ],
      "execution_count": 177,
      "outputs": [
        {
          "output_type": "execute_result",
          "data": {
            "text/plain": [
              "(87520, 2)"
            ]
          },
          "metadata": {
            "tags": []
          },
          "execution_count": 177
        }
      ]
    },
    {
      "cell_type": "code",
      "metadata": {
        "id": "0jV0tng6hnNU",
        "colab_type": "code",
        "outputId": "0eee11be-da03-4c12-baa2-efe33dece068",
        "colab": {
          "base_uri": "https://localhost:8080/",
          "height": 34
        }
      },
      "source": [
        "#check if we have missing value\n",
        "data.isnull().values.any()"
      ],
      "execution_count": 178,
      "outputs": [
        {
          "output_type": "execute_result",
          "data": {
            "text/plain": [
              "False"
            ]
          },
          "metadata": {
            "tags": []
          },
          "execution_count": 178
        }
      ]
    },
    {
      "cell_type": "code",
      "metadata": {
        "id": "d6hSc4zChpCJ",
        "colab_type": "code",
        "outputId": "eed99daf-e756-4af0-d221-122f2ecf9743",
        "colab": {
          "base_uri": "https://localhost:8080/",
          "height": 34
        }
      },
      "source": [
        "#check if we have a duplicated rows\n",
        "data.duplicated().any()"
      ],
      "execution_count": 179,
      "outputs": [
        {
          "output_type": "execute_result",
          "data": {
            "text/plain": [
              "False"
            ]
          },
          "metadata": {
            "tags": []
          },
          "execution_count": 179
        }
      ]
    },
    {
      "cell_type": "code",
      "metadata": {
        "id": "ftEj0wpEhpNV",
        "colab_type": "code",
        "outputId": "eea9d73c-ede1-4202-9df3-42ab06306f60",
        "colab": {
          "base_uri": "https://localhost:8080/",
          "height": 297
        }
      },
      "source": [
        "#some statistics\n",
        "data.describe()"
      ],
      "execution_count": 180,
      "outputs": [
        {
          "output_type": "execute_result",
          "data": {
            "text/html": [
              "<div>\n",
              "<style scoped>\n",
              "    .dataframe tbody tr th:only-of-type {\n",
              "        vertical-align: middle;\n",
              "    }\n",
              "\n",
              "    .dataframe tbody tr th {\n",
              "        vertical-align: top;\n",
              "    }\n",
              "\n",
              "    .dataframe thead th {\n",
              "        text-align: right;\n",
              "    }\n",
              "</style>\n",
              "<table border=\"1\" class=\"dataframe\">\n",
              "  <thead>\n",
              "    <tr style=\"text-align: right;\">\n",
              "      <th></th>\n",
              "      <th>pulses</th>\n",
              "    </tr>\n",
              "  </thead>\n",
              "  <tbody>\n",
              "    <tr>\n",
              "      <th>count</th>\n",
              "      <td>87520.000000</td>\n",
              "    </tr>\n",
              "    <tr>\n",
              "      <th>mean</th>\n",
              "      <td>1.136426</td>\n",
              "    </tr>\n",
              "    <tr>\n",
              "      <th>std</th>\n",
              "      <td>1.843377</td>\n",
              "    </tr>\n",
              "    <tr>\n",
              "      <th>min</th>\n",
              "      <td>0.000000</td>\n",
              "    </tr>\n",
              "    <tr>\n",
              "      <th>25%</th>\n",
              "      <td>0.000000</td>\n",
              "    </tr>\n",
              "    <tr>\n",
              "      <th>50%</th>\n",
              "      <td>0.000000</td>\n",
              "    </tr>\n",
              "    <tr>\n",
              "      <th>75%</th>\n",
              "      <td>2.000000</td>\n",
              "    </tr>\n",
              "    <tr>\n",
              "      <th>max</th>\n",
              "      <td>25.000000</td>\n",
              "    </tr>\n",
              "  </tbody>\n",
              "</table>\n",
              "</div>"
            ],
            "text/plain": [
              "             pulses\n",
              "count  87520.000000\n",
              "mean       1.136426\n",
              "std        1.843377\n",
              "min        0.000000\n",
              "25%        0.000000\n",
              "50%        0.000000\n",
              "75%        2.000000\n",
              "max       25.000000"
            ]
          },
          "metadata": {
            "tags": []
          },
          "execution_count": 180
        }
      ]
    },
    {
      "cell_type": "code",
      "metadata": {
        "id": "qliWaHH_hzOo",
        "colab_type": "code",
        "outputId": "9968cedc-7cb9-4d4c-b046-2947a0eed2b9",
        "colab": {
          "base_uri": "https://localhost:8080/",
          "height": 68
        }
      },
      "source": [
        "data.dtypes"
      ],
      "execution_count": 181,
      "outputs": [
        {
          "output_type": "execute_result",
          "data": {
            "text/plain": [
              "timestamp    datetime64[ns]\n",
              "pulses                int64\n",
              "dtype: object"
            ]
          },
          "metadata": {
            "tags": []
          },
          "execution_count": 181
        }
      ]
    },
    {
      "cell_type": "code",
      "metadata": {
        "id": "MxqzVbKJgjuI",
        "colab_type": "code",
        "outputId": "d64ae8c8-6951-4c1a-aa81-20a4e32c28c1",
        "colab": {
          "base_uri": "https://localhost:8080/",
          "height": 437
        }
      },
      "source": [
        "#data plot as a time series graph \n",
        "\n",
        "sns.set()\n",
        "f, (ax1) = plt.subplots(1, figsize=(20,5))\n",
        "ax1.plot(data['timestamp'], data[\"pulses\"] )\n",
        "plt.xticks( rotation=35 )\n",
        "xfmt = md.DateFormatter('%Y-%m-%d %H:%M:%S')\n",
        "ax1.xaxis.set_major_formatter(xfmt)\n",
        "ax1.set_xlabel(\"timestamp\", fontsize=12)\n",
        "ax1.set_ylabel(\"pulses\")\n",
        "ax1.set_title(\"pulses in time function\")"
      ],
      "execution_count": 182,
      "outputs": [
        {
          "output_type": "execute_result",
          "data": {
            "text/plain": [
              "Text(0.5, 1.0, 'pulses in time function')"
            ]
          },
          "metadata": {
            "tags": []
          },
          "execution_count": 182
        },
        {
          "output_type": "display_data",
          "data": {
            "image/png": "[encoded data removed]",
            "text/plain": [
              "<Figure size 1440x360 with 1 Axes>"
            ]
          },
          "metadata": {
            "tags": []
          }
        }
      ]
    },
    {
      "cell_type": "code",
      "metadata": {
        "id": "rHd8TnM4kDSZ",
        "colab_type": "code",
        "colab": {}
      },
      "source": [
        "#we see a huge gap in the data we will keep it to a further (investigation) discuttion "
      ],
      "execution_count": 0,
      "outputs": []
    },
    {
      "cell_type": "markdown",
      "metadata": {
        "id": "WsJV7v8ohY0P",
        "colab_type": "text"
      },
      "source": [
        "## Water softner occurrence "
      ]
    },
    {
      "cell_type": "markdown",
      "metadata": {
        "id": "Vc-86HkCiCo9",
        "colab_type": "text"
      },
      "source": [
        "We are going to write an algorithme that will count the number of times a water softner occure. we will make a data restriction in wich the timestamp always starts from 1AM and ends 5AM. the basic modelisation is to map the data restriction seraching for a two short and high water usage and contains in the middle a long and continuous water usage. "
      ]
    },
    {
      "cell_type": "code",
      "metadata": {
        "id": "QBpE5hSBhdIy",
        "colab_type": "code",
        "colab": {}
      },
      "source": [
        "#make a copy of the data and add a column with hour number\n",
        "data2 = data.copy()\n",
        "data2['Hour'] = data2.timestamp.map(lambda x : x.hour)\n",
        "data2['Weekday'] = data2['timestamp'].dt.day_name()\n"
      ],
      "execution_count": 0,
      "outputs": []
    },
    {
      "cell_type": "code",
      "metadata": {
        "id": "-KNjQeTW_kbR",
        "colab_type": "code",
        "colab": {}
      },
      "source": [
        "#restrict the data between 3AM and 5AM\n",
        "data2 = data2[(data2['Hour'] >=1 )&(data2['Hour'] < 3 )]"
      ],
      "execution_count": 0,
      "outputs": []
    },
    {
      "cell_type": "code",
      "metadata": {
        "id": "xVjkWXOrZUNP",
        "colab_type": "code",
        "colab": {}
      },
      "source": [
        "#reset the index for later porpous to print the time intervall \n",
        "data2 = data2.reset_index(drop=True, inplace=False)\n"
      ],
      "execution_count": 0,
      "outputs": []
    },
    {
      "cell_type": "code",
      "metadata": {
        "id": "Oa6yMJGo_nYj",
        "colab_type": "code",
        "outputId": "1b00ad68-7cda-4690-d8a8-17bdbe0cdc4c",
        "colab": {
          "base_uri": "https://localhost:8080/",
          "height": 34
        }
      },
      "source": [
        "#define new data_length\n",
        "data2_len=len(data2['timestamp'])\n",
        "data2_len"
      ],
      "execution_count": 187,
      "outputs": [
        {
          "output_type": "execute_result",
          "data": {
            "text/plain": [
              "7300"
            ]
          },
          "metadata": {
            "tags": []
          },
          "execution_count": 187
        }
      ]
    },
    {
      "cell_type": "code",
      "metadata": {
        "id": "_aj6e2ltAPyq",
        "colab_type": "code",
        "outputId": "754ea882-142c-4766-83c0-63741865af80",
        "colab": {
          "base_uri": "https://localhost:8080/",
          "height": 34
        }
      },
      "source": [
        "\n",
        "#now let's put all pulses values in a numpy array and display it's shape \n",
        "pulses_array=np.array(data2['pulses'])\n",
        "pulses_array\n"
      ],
      "execution_count": 188,
      "outputs": [
        {
          "output_type": "execute_result",
          "data": {
            "text/plain": [
              "array([0, 1, 0, ..., 0, 0, 0])"
            ]
          },
          "metadata": {
            "tags": []
          },
          "execution_count": 188
        }
      ]
    },
    {
      "cell_type": "code",
      "metadata": {
        "id": "KinBxK8Xf3Oq",
        "colab_type": "code",
        "outputId": "fdf9ef43-44c1-4c77-a61e-8aebc32321b1",
        "colab": {
          "base_uri": "https://localhost:8080/",
          "height": 34
        }
      },
      "source": [
        "#display all possible values for pulses \n",
        "pulses_val  = set(pulses_array)\n",
        "pulses_val"
      ],
      "execution_count": 189,
      "outputs": [
        {
          "output_type": "execute_result",
          "data": {
            "text/plain": [
              "{0, 1, 2, 3, 4, 5}"
            ]
          },
          "metadata": {
            "tags": []
          },
          "execution_count": 189
        }
      ]
    },
    {
      "cell_type": "code",
      "metadata": {
        "id": "XAOrSl4IXs0j",
        "colab_type": "code",
        "colab": {}
      },
      "source": [
        "#initialize an occurence list that will contain indexex in witch the water softner occures  \n",
        "occ_list=[] \n",
        "#we make a for loop on the data2 , we will make a 2 rows skip. \n",
        "\n",
        "for idx in range(2,data2_len): \n",
        "  #initialise a list that will contain a single water softner  \n",
        "  P=[] \n",
        "  if pulses_array[idx-1]<pulses_array[idx-2] and pulses_array[idx-1]==pulses_array[idx] and pulses_array[idx]!=0: \n",
        "    peak=idx -2\n",
        "    P.append(peak) \n",
        "    P.append(peak + 1)\n",
        "    P.append(peak + 2)\n",
        "    peak+=2 \n",
        "    \n",
        "    while pulses_array[peak]>=pulses_array[peak+1]: #we abord the condition that pulse_array[peak +2] !=\n",
        "      P.append(peak + 1)                            #because we might have some discontinuity \n",
        "      peak+=1                                       # in the water flow P.append(peak + 1)\n",
        "       \n",
        "    else : # ie pulses_array[peak] < pulses_array[peak+1] <= pulses_array[peak+2] :\n",
        "      P.append(peak + 2)\n",
        "      P.append(peak + 3)\n",
        "      peak +=1\n",
        "\n",
        "           \n",
        "      occ_list.append(P)  "
      ],
      "execution_count": 0,
      "outputs": []
    },
    {
      "cell_type": "code",
      "metadata": {
        "id": "-4oO5jAaHcdr",
        "colab_type": "code",
        "outputId": "cd8dd021-26a7-490a-a9fd-2a40d5cff107",
        "colab": {
          "base_uri": "https://localhost:8080/",
          "height": 289
        }
      },
      "source": [
        "occ_list"
      ],
      "execution_count": 191,
      "outputs": [
        {
          "output_type": "execute_result",
          "data": {
            "text/plain": [
              "[[7, 8, 9, 10, 11, 12, 13, 15, 16],\n",
              " [147, 148, 149, 150, 151, 152, 153, 155, 156],\n",
              " [288, 289, 290, 291, 292, 294, 295],\n",
              " [428, 429, 430, 431, 432, 433, 434, 436, 437],\n",
              " [568, 569, 570, 571, 572, 574, 575],\n",
              " [707, 708, 709, 710, 712, 713],\n",
              " [847, 848, 849, 850, 851, 852, 853, 854, 856, 857],\n",
              " [987, 988, 989, 990, 991, 992, 993, 994, 996, 997],\n",
              " [1127, 1128, 1129, 1130, 1131, 1132, 1133, 1134, 1136, 1137],\n",
              " [1268, 1269, 1270, 1271, 1272, 1273, 1274, 1276, 1277],\n",
              " [1408, 1409, 1410, 1411, 1412, 1413, 1414, 1416, 1417],\n",
              " [1547, 1548, 1549, 1550, 1551, 1553, 1554],\n",
              " [1827, 1828, 1829, 1830, 1831, 1832, 1833, 1834, 1836, 1837],\n",
              " [1970, 1971, 1972, 1973, 1974, 1976, 1977],\n",
              " [2247, 2248, 2249, 2250, 2251, 2252, 2253, 2255, 2256],\n",
              " [2662, 2663, 2664, 2666, 2667]]"
            ]
          },
          "metadata": {
            "tags": []
          },
          "execution_count": 191
        }
      ]
    },
    {
      "cell_type": "code",
      "metadata": {
        "id": "zmFCwBxgAjb9",
        "colab_type": "code",
        "outputId": "e5544157-7269-4a97-f565-ba297fd68051",
        "colab": {
          "base_uri": "https://localhost:8080/",
          "height": 34
        }
      },
      "source": [
        "print('the number of occurence of water softner is', len(occ_list))"
      ],
      "execution_count": 192,
      "outputs": [
        {
          "output_type": "stream",
          "text": [
            "the number of occurence of water softner is 16\n"
          ],
          "name": "stdout"
        }
      ]
    },
    {
      "cell_type": "code",
      "metadata": {
        "id": "HiCrLei1EgP2",
        "colab_type": "code",
        "outputId": "b646fb63-6129-4993-f0d8-5adf6d3f5a99",
        "colab": {
          "base_uri": "https://localhost:8080/",
          "height": 306
        }
      },
      "source": [
        "print('water softner has occured between these times ')\n",
        "for x in range(0, len(occ_list)):\n",
        "  print(data2.timestamp.loc[occ_list[x][0]]  ,'and', data2.timestamp.loc[occ_list[x][-1]])"
      ],
      "execution_count": 193,
      "outputs": [
        {
          "output_type": "stream",
          "text": [
            "water softner has occured between these times \n",
            "2019-03-01 01:42:00 and 2019-03-01 02:36:00\n",
            "2019-03-08 01:42:00 and 2019-03-08 02:36:00\n",
            "2019-03-15 01:48:00 and 2019-03-15 02:30:00\n",
            "2019-03-22 01:48:00 and 2019-03-22 02:42:00\n",
            "2019-03-29 01:48:00 and 2019-03-29 02:30:00\n",
            "2019-04-05 01:42:00 and 2019-04-05 02:18:00\n",
            "2019-04-12 01:42:00 and 2019-04-12 02:42:00\n",
            "2019-04-19 01:42:00 and 2019-04-19 02:42:00\n",
            "2019-04-26 01:42:00 and 2019-04-26 02:42:00\n",
            "2019-05-03 01:48:00 and 2019-05-03 02:42:00\n",
            "2019-05-10 01:48:00 and 2019-05-10 02:42:00\n",
            "2019-05-17 01:42:00 and 2019-05-17 02:24:00\n",
            "2019-05-31 01:42:00 and 2019-05-31 02:42:00\n",
            "2019-06-07 02:00:00 and 2019-06-07 02:42:00\n",
            "2019-06-21 01:42:00 and 2019-06-21 02:36:00\n",
            "2019-07-12 01:12:00 and 2019-07-12 01:42:00\n"
          ],
          "name": "stdout"
        }
      ]
    },
    {
      "cell_type": "code",
      "metadata": {
        "id": "gFoy6hdjoqdV",
        "colab_type": "code",
        "colab": {}
      },
      "source": [
        ""
      ],
      "execution_count": 0,
      "outputs": []
    }
  ]
}