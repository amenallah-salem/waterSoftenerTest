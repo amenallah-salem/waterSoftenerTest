{
  "nbformat": 4,
  "nbformat_minor": 0,
  "metadata": {
    "colab": {
      "name": "amenShaypAssignement.ipynb",
      "provenance": []
    },
    "kernelspec": {
      "name": "python3",
      "display_name": "Python 3"
    }
  },
  "cells": [
    {
      "cell_type": "markdown",
      "metadata": {
        "id": "qRMlpP5Tsjzj",
        "colab_type": "text"
      },
      "source": [
        " #water softener signal detection Test\n",
        " writen by : amenallah salem¹\n",
        "\n",
        " Test Goal:\n",
        " - writing an algorithm wich count the number of occurrences of water softener running over the course \n",
        " - proposing different approaches to detect the water softener signal \n",
        "\n",
        "\n",
        "\n",
        "\n",
        " amenallah.salem@dauphine.eu/ amenallah.salem@dauphine.tn \n",
        " "
      ]
    },
    {
      "cell_type": "code",
      "metadata": {
        "id": "BggihLnosh_u",
        "colab_type": "code",
        "colab": {}
      },
      "source": [
        ""
      ],
      "execution_count": 0,
      "outputs": []
    },
    {
      "cell_type": "markdown",
      "metadata": {
        "id": "8ceQkFhVsuLj",
        "colab_type": "text"
      },
      "source": [
        "##Loading & discovering the dataset\n"
      ]
    },
    {
      "cell_type": "code",
      "metadata": {
        "id": "sUXTknKYqUG5",
        "colab_type": "code",
        "colab": {
          "base_uri": "https://localhost:8080/",
          "height": 80
        },
        "outputId": "a6af6bcf-54d9-44ee-c80d-94aa43e2fa1d"
      },
      "source": [
        "#Importing packages\n",
        "import numpy as np \n",
        "import pandas as pd \n",
        "import matplotlib.pyplot as plt\n",
        "import seaborn as sns\n",
        "%matplotlib inline\n",
        "from sklearn.preprocessing import MinMaxScaler\n",
        "from keras.preprocessing.sequence import TimeseriesGenerator\n",
        "from keras.models import Sequential\n",
        "from keras.layers import Dense\n",
        "from keras.layers import LSTM, Dropout\n",
        "from keras.layers import GRU\n",
        "import pytz#python time zone"
      ],
      "execution_count": 1,
      "outputs": [
        {
          "output_type": "stream",
          "text": [
            "Using TensorFlow backend.\n"
          ],
          "name": "stderr"
        },
        {
          "output_type": "display_data",
          "data": {
            "text/html": [
              "<p style=\"color: red;\">\n",
              "The default version of TensorFlow in Colab will soon switch to TensorFlow 2.x.<br>\n",
              "We recommend you <a href=\"https://www.tensorflow.org/guide/migrate\" target=\"_blank\">upgrade</a> now \n",
              "or ensure your notebook will continue to use TensorFlow 1.x via the <code>%tensorflow_version 1.x</code> magic:\n",
              "<a href=\"https://colab.research.google.com/notebooks/tensorflow_version.ipynb\" target=\"_blank\">more info</a>.</p>\n"
            ],
            "text/plain": [
              "<IPython.core.display.HTML object>"
            ]
          },
          "metadata": {
            "tags": []
          }
        }
      ]
    },
    {
      "cell_type": "code",
      "metadata": {
        "id": "qvYRwybdqsJT",
        "colab_type": "code",
        "colab": {}
      },
      "source": [
        "##Loading the data\n",
        "######### loding the data from Google Drive:if working on google colab#########\n",
        "#from google.colab import files\n",
        "#uploaded = files.upload() #select the file on your drive \n",
        "#and then put the data into a pandas dataframe\n",
        "#import io\n",
        "#data =pd.read_csv(io.BytesIO(uploaded['expot.csv']))\n",
        "############################## loding the data from github ###############\n",
        "dataLink = 'https://raw.githubusercontent.com/amenallah-salem/waterSoftenerTest/master/expot.csv'\n",
        "data = pd.read_csv(dataLink)\n",
        "############################## if we are testing the code on other dataset ###########\n",
        "#def getData(dataLink_):\n",
        "#  return pd.read_csv(dataLink)\n",
        "#data = getData(\"dataLink\")"
      ],
      "execution_count": 0,
      "outputs": []
    },
    {
      "cell_type": "code",
      "metadata": {
        "id": "4lq2DChvqxwn",
        "colab_type": "code",
        "colab": {
          "base_uri": "https://localhost:8080/",
          "height": 204
        },
        "outputId": "048d12e6-7487-4d21-e71b-54b8419b9f5a"
      },
      "source": [
        "data.head()\n"
      ],
      "execution_count": 3,
      "outputs": [
        {
          "output_type": "execute_result",
          "data": {
            "text/html": [
              "<div>\n",
              "<style scoped>\n",
              "    .dataframe tbody tr th:only-of-type {\n",
              "        vertical-align: middle;\n",
              "    }\n",
              "\n",
              "    .dataframe tbody tr th {\n",
              "        vertical-align: top;\n",
              "    }\n",
              "\n",
              "    .dataframe thead th {\n",
              "        text-align: right;\n",
              "    }\n",
              "</style>\n",
              "<table border=\"1\" class=\"dataframe\">\n",
              "  <thead>\n",
              "    <tr style=\"text-align: right;\">\n",
              "      <th></th>\n",
              "      <th>device_id</th>\n",
              "      <th>timestamp</th>\n",
              "      <th>pulses</th>\n",
              "      <th>consolidation</th>\n",
              "    </tr>\n",
              "  </thead>\n",
              "  <tbody>\n",
              "    <tr>\n",
              "      <th>0</th>\n",
              "      <td>3A9B9D</td>\n",
              "      <td>2019-03-01 00:00</td>\n",
              "      <td>0</td>\n",
              "      <td>1</td>\n",
              "    </tr>\n",
              "    <tr>\n",
              "      <th>1</th>\n",
              "      <td>3A9B9D</td>\n",
              "      <td>2019-03-01 00:06</td>\n",
              "      <td>1</td>\n",
              "      <td>1</td>\n",
              "    </tr>\n",
              "    <tr>\n",
              "      <th>2</th>\n",
              "      <td>3A9B9D</td>\n",
              "      <td>2019-03-01 00:12</td>\n",
              "      <td>0</td>\n",
              "      <td>1</td>\n",
              "    </tr>\n",
              "    <tr>\n",
              "      <th>3</th>\n",
              "      <td>3A9B9D</td>\n",
              "      <td>2019-03-01 00:18</td>\n",
              "      <td>0</td>\n",
              "      <td>1</td>\n",
              "    </tr>\n",
              "    <tr>\n",
              "      <th>4</th>\n",
              "      <td>3A9B9D</td>\n",
              "      <td>2019-03-01 00:24</td>\n",
              "      <td>0</td>\n",
              "      <td>1</td>\n",
              "    </tr>\n",
              "  </tbody>\n",
              "</table>\n",
              "</div>"
            ],
            "text/plain": [
              "  device_id         timestamp  pulses  consolidation\n",
              "0    3A9B9D  2019-03-01 00:00       0              1\n",
              "1    3A9B9D  2019-03-01 00:06       1              1\n",
              "2    3A9B9D  2019-03-01 00:12       0              1\n",
              "3    3A9B9D  2019-03-01 00:18       0              1\n",
              "4    3A9B9D  2019-03-01 00:24       0              1"
            ]
          },
          "metadata": {
            "tags": []
          },
          "execution_count": 3
        }
      ]
    },
    {
      "cell_type": "code",
      "metadata": {
        "id": "Pg3PS1mCq5hR",
        "colab_type": "code",
        "colab": {
          "base_uri": "https://localhost:8080/",
          "height": 34
        },
        "outputId": "9fb55a75-67cd-4abb-f010-2e04d3e8a0fd"
      },
      "source": [
        "#check if we have missing value\n",
        "data.isnull().values.any()"
      ],
      "execution_count": 4,
      "outputs": [
        {
          "output_type": "execute_result",
          "data": {
            "text/plain": [
              "False"
            ]
          },
          "metadata": {
            "tags": []
          },
          "execution_count": 4
        }
      ]
    },
    {
      "cell_type": "code",
      "metadata": {
        "id": "KdipPuBRq7-P",
        "colab_type": "code",
        "colab": {
          "base_uri": "https://localhost:8080/",
          "height": 34
        },
        "outputId": "41ebafe1-a2b1-4c63-a769-9da60967bdab"
      },
      "source": [
        "#check if we have a duplicated rows\n",
        "data.duplicated().any()"
      ],
      "execution_count": 5,
      "outputs": [
        {
          "output_type": "execute_result",
          "data": {
            "text/plain": [
              "False"
            ]
          },
          "metadata": {
            "tags": []
          },
          "execution_count": 5
        }
      ]
    },
    {
      "cell_type": "code",
      "metadata": {
        "id": "0oR8cuIaq-Eh",
        "colab_type": "code",
        "colab": {
          "base_uri": "https://localhost:8080/",
          "height": 297
        },
        "outputId": "3cdd51de-f8c2-441c-b3e1-d296003b8dc3"
      },
      "source": [
        "#some statistics\n",
        "data.describe()"
      ],
      "execution_count": 6,
      "outputs": [
        {
          "output_type": "execute_result",
          "data": {
            "text/html": [
              "<div>\n",
              "<style scoped>\n",
              "    .dataframe tbody tr th:only-of-type {\n",
              "        vertical-align: middle;\n",
              "    }\n",
              "\n",
              "    .dataframe tbody tr th {\n",
              "        vertical-align: top;\n",
              "    }\n",
              "\n",
              "    .dataframe thead th {\n",
              "        text-align: right;\n",
              "    }\n",
              "</style>\n",
              "<table border=\"1\" class=\"dataframe\">\n",
              "  <thead>\n",
              "    <tr style=\"text-align: right;\">\n",
              "      <th></th>\n",
              "      <th>pulses</th>\n",
              "      <th>consolidation</th>\n",
              "    </tr>\n",
              "  </thead>\n",
              "  <tbody>\n",
              "    <tr>\n",
              "      <th>count</th>\n",
              "      <td>87520.000000</td>\n",
              "      <td>87520.000000</td>\n",
              "    </tr>\n",
              "    <tr>\n",
              "      <th>mean</th>\n",
              "      <td>1.136426</td>\n",
              "      <td>0.981239</td>\n",
              "    </tr>\n",
              "    <tr>\n",
              "      <th>std</th>\n",
              "      <td>1.843377</td>\n",
              "      <td>0.152793</td>\n",
              "    </tr>\n",
              "    <tr>\n",
              "      <th>min</th>\n",
              "      <td>0.000000</td>\n",
              "      <td>0.000000</td>\n",
              "    </tr>\n",
              "    <tr>\n",
              "      <th>25%</th>\n",
              "      <td>0.000000</td>\n",
              "      <td>1.000000</td>\n",
              "    </tr>\n",
              "    <tr>\n",
              "      <th>50%</th>\n",
              "      <td>0.000000</td>\n",
              "      <td>1.000000</td>\n",
              "    </tr>\n",
              "    <tr>\n",
              "      <th>75%</th>\n",
              "      <td>2.000000</td>\n",
              "      <td>1.000000</td>\n",
              "    </tr>\n",
              "    <tr>\n",
              "      <th>max</th>\n",
              "      <td>25.000000</td>\n",
              "      <td>6.000000</td>\n",
              "    </tr>\n",
              "  </tbody>\n",
              "</table>\n",
              "</div>"
            ],
            "text/plain": [
              "             pulses  consolidation\n",
              "count  87520.000000   87520.000000\n",
              "mean       1.136426       0.981239\n",
              "std        1.843377       0.152793\n",
              "min        0.000000       0.000000\n",
              "25%        0.000000       1.000000\n",
              "50%        0.000000       1.000000\n",
              "75%        2.000000       1.000000\n",
              "max       25.000000       6.000000"
            ]
          },
          "metadata": {
            "tags": []
          },
          "execution_count": 6
        }
      ]
    },
    {
      "cell_type": "code",
      "metadata": {
        "id": "vvKRhDyAq_rV",
        "colab_type": "code",
        "colab": {
          "base_uri": "https://localhost:8080/",
          "height": 297
        },
        "outputId": "cc70dbca-5c32-4a26-92ba-ee074bf9e404"
      },
      "source": [
        "#some statistics\n",
        "data.describe()"
      ],
      "execution_count": 7,
      "outputs": [
        {
          "output_type": "execute_result",
          "data": {
            "text/html": [
              "<div>\n",
              "<style scoped>\n",
              "    .dataframe tbody tr th:only-of-type {\n",
              "        vertical-align: middle;\n",
              "    }\n",
              "\n",
              "    .dataframe tbody tr th {\n",
              "        vertical-align: top;\n",
              "    }\n",
              "\n",
              "    .dataframe thead th {\n",
              "        text-align: right;\n",
              "    }\n",
              "</style>\n",
              "<table border=\"1\" class=\"dataframe\">\n",
              "  <thead>\n",
              "    <tr style=\"text-align: right;\">\n",
              "      <th></th>\n",
              "      <th>pulses</th>\n",
              "      <th>consolidation</th>\n",
              "    </tr>\n",
              "  </thead>\n",
              "  <tbody>\n",
              "    <tr>\n",
              "      <th>count</th>\n",
              "      <td>87520.000000</td>\n",
              "      <td>87520.000000</td>\n",
              "    </tr>\n",
              "    <tr>\n",
              "      <th>mean</th>\n",
              "      <td>1.136426</td>\n",
              "      <td>0.981239</td>\n",
              "    </tr>\n",
              "    <tr>\n",
              "      <th>std</th>\n",
              "      <td>1.843377</td>\n",
              "      <td>0.152793</td>\n",
              "    </tr>\n",
              "    <tr>\n",
              "      <th>min</th>\n",
              "      <td>0.000000</td>\n",
              "      <td>0.000000</td>\n",
              "    </tr>\n",
              "    <tr>\n",
              "      <th>25%</th>\n",
              "      <td>0.000000</td>\n",
              "      <td>1.000000</td>\n",
              "    </tr>\n",
              "    <tr>\n",
              "      <th>50%</th>\n",
              "      <td>0.000000</td>\n",
              "      <td>1.000000</td>\n",
              "    </tr>\n",
              "    <tr>\n",
              "      <th>75%</th>\n",
              "      <td>2.000000</td>\n",
              "      <td>1.000000</td>\n",
              "    </tr>\n",
              "    <tr>\n",
              "      <th>max</th>\n",
              "      <td>25.000000</td>\n",
              "      <td>6.000000</td>\n",
              "    </tr>\n",
              "  </tbody>\n",
              "</table>\n",
              "</div>"
            ],
            "text/plain": [
              "             pulses  consolidation\n",
              "count  87520.000000   87520.000000\n",
              "mean       1.136426       0.981239\n",
              "std        1.843377       0.152793\n",
              "min        0.000000       0.000000\n",
              "25%        0.000000       1.000000\n",
              "50%        0.000000       1.000000\n",
              "75%        2.000000       1.000000\n",
              "max       25.000000       6.000000"
            ]
          },
          "metadata": {
            "tags": []
          },
          "execution_count": 7
        }
      ]
    },
    {
      "cell_type": "code",
      "metadata": {
        "id": "b8eQoSMXrCpN",
        "colab_type": "code",
        "colab": {
          "base_uri": "https://localhost:8080/",
          "height": 102
        },
        "outputId": "a1e44cdc-68ec-4afe-e373-f1820ffd7785"
      },
      "source": [
        "data.dtypes"
      ],
      "execution_count": 8,
      "outputs": [
        {
          "output_type": "execute_result",
          "data": {
            "text/plain": [
              "device_id        object\n",
              "timestamp        object\n",
              "pulses            int64\n",
              "consolidation     int64\n",
              "dtype: object"
            ]
          },
          "metadata": {
            "tags": []
          },
          "execution_count": 8
        }
      ]
    },
    {
      "cell_type": "code",
      "metadata": {
        "id": "hdgiy17qrFyO",
        "colab_type": "code",
        "colab": {}
      },
      "source": [
        "def dataProcessing(data_):\n",
        "  ###converting the timestamp to datetime\"\n",
        "  data_[\"timestamp\"] = pd.to_datetime(data_[\"timestamp\"])\n",
        "  data_.drop(columns=['device_id'], inplace=True)\n",
        "  data_.drop(columns=['consolidation'], inplace=True)"
      ],
      "execution_count": 0,
      "outputs": []
    },
    {
      "cell_type": "code",
      "metadata": {
        "id": "IIizsCWZrIYj",
        "colab_type": "code",
        "colab": {}
      },
      "source": [
        "dataProcessing(data)"
      ],
      "execution_count": 0,
      "outputs": []
    },
    {
      "cell_type": "code",
      "metadata": {
        "id": "OsBUq3tPrK-Y",
        "colab_type": "code",
        "colab": {
          "base_uri": "https://localhost:8080/",
          "height": 492
        },
        "outputId": "0df2ec7a-f2a3-4860-b6ec-15f23e854e39"
      },
      "source": [
        "f, (ax1) = plt.subplots(1, figsize=(14,5))\n",
        "ax1.plot(data[\"timestamp\"], data[\"pulses\"])\n",
        "ax1.set_xlabel(\"timestamp\", fontsize=12)\n",
        "ax1.set_ylabel(\"pulses\")\n",
        "ax1.set_title(\"pulses in time function\")"
      ],
      "execution_count": 11,
      "outputs": [
        {
          "output_type": "stream",
          "text": [
            "/usr/local/lib/python3.6/dist-packages/pandas/plotting/_matplotlib/converter.py:103: FutureWarning: Using an implicitly registered datetime converter for a matplotlib plotting method. The converter was registered by pandas on import. Future versions of pandas will require you to explicitly register matplotlib converters.\n",
            "\n",
            "To register the converters:\n",
            "\t>>> from pandas.plotting import register_matplotlib_converters\n",
            "\t>>> register_matplotlib_converters()\n",
            "  warnings.warn(msg, FutureWarning)\n"
          ],
          "name": "stderr"
        },
        {
          "output_type": "execute_result",
          "data": {
            "text/plain": [
              "Text(0.5, 1.0, 'pulses in time function')"
            ]
          },
          "metadata": {
            "tags": []
          },
          "execution_count": 11
        },
        {
          "output_type": "display_data",
          "data": {
            "image/png": "[encoded data removed]",
            "text/plain": [
              "<Figure size 1008x360 with 1 Axes>"
            ]
          },
          "metadata": {
            "tags": []
          }
        }
      ]
    },
    {
      "cell_type": "code",
      "metadata": {
        "id": "OmkQWOFvrOMw",
        "colab_type": "code",
        "colab": {}
      },
      "source": [
        "def timeSession(x):\n",
        "    if (x > 4) and (x <= 8):\n",
        "        return 'Early Morning'\n",
        "    elif (x > 8) and (x <= 12 ):\n",
        "        return 'Morning'\n",
        "    elif (x > 12) and (x <= 16):\n",
        "        return'Noon'\n",
        "    elif (x > 16) and (x <= 20) :\n",
        "        return 'Eve'\n",
        "    elif (x > 20) and (x <= 24):\n",
        "        return'Night'\n",
        "    elif (x <= 4):\n",
        "        return'Late Night'\n",
        "def secondData(data_):\n",
        "  ###adding columns for some visualisation \n",
        "  data_['Weekday'] = data_['timestamp'].dt.day_name()\n",
        "  data_['Month'] = data_.timestamp.map(lambda x : x.month)\n",
        "  data_['Year'] = data_.timestamp.map(lambda x : x.year)\n",
        "  data_['Date'] = [d.date() for d in data_['timestamp']]\n",
        "  data_[\"Date\"] = pd.to_datetime(data_[\"Date\"])\n",
        "  data_['date'] = data_.timestamp.apply(lambda x: x.strftime('%Y-%m-%d'))  \n",
        "  data_['Time'] = [d.time() for d in data_['timestamp']]\n",
        "  data_['Hour'] = data_.timestamp.map(lambda x : x.hour)\n",
        "  data_['Day session'] = data_['Hour'].apply(timeSession)"
      ],
      "execution_count": 0,
      "outputs": []
    },
    {
      "cell_type": "code",
      "metadata": {
        "id": "bDr-DlTPrSzA",
        "colab_type": "code",
        "colab": {
          "base_uri": "https://localhost:8080/",
          "height": 419
        },
        "outputId": "ce6d0515-dd45-4249-b9c5-da8912c81fac"
      },
      "source": [
        "#I have created a copy of data to add columns of different sets mmaybe to discver technical indicators\n",
        "data2 = data.copy()\n",
        "data2.head()"
      ],
      "execution_count": 13,
      "outputs": [
        {
          "output_type": "execute_result",
          "data": {
            "text/html": [
              "<div>\n",
              "<style scoped>\n",
              "    .dataframe tbody tr th:only-of-type {\n",
              "        vertical-align: middle;\n",
              "    }\n",
              "\n",
              "    .dataframe tbody tr th {\n",
              "        vertical-align: top;\n",
              "    }\n",
              "\n",
              "    .dataframe thead th {\n",
              "        text-align: right;\n",
              "    }\n",
              "</style>\n",
              "<table border=\"1\" class=\"dataframe\">\n",
              "  <thead>\n",
              "    <tr style=\"text-align: right;\">\n",
              "      <th></th>\n",
              "      <th>timestamp</th>\n",
              "      <th>pulses</th>\n",
              "    </tr>\n",
              "  </thead>\n",
              "  <tbody>\n",
              "    <tr>\n",
              "      <th>0</th>\n",
              "      <td>2019-03-01 00:00:00</td>\n",
              "      <td>0</td>\n",
              "    </tr>\n",
              "    <tr>\n",
              "      <th>1</th>\n",
              "      <td>2019-03-01 00:06:00</td>\n",
              "      <td>1</td>\n",
              "    </tr>\n",
              "    <tr>\n",
              "      <th>2</th>\n",
              "      <td>2019-03-01 00:12:00</td>\n",
              "      <td>0</td>\n",
              "    </tr>\n",
              "    <tr>\n",
              "      <th>3</th>\n",
              "      <td>2019-03-01 00:18:00</td>\n",
              "      <td>0</td>\n",
              "    </tr>\n",
              "    <tr>\n",
              "      <th>4</th>\n",
              "      <td>2019-03-01 00:24:00</td>\n",
              "      <td>0</td>\n",
              "    </tr>\n",
              "    <tr>\n",
              "      <th>...</th>\n",
              "      <td>...</td>\n",
              "      <td>...</td>\n",
              "    </tr>\n",
              "    <tr>\n",
              "      <th>87515</th>\n",
              "      <td>2020-02-28 15:30:00</td>\n",
              "      <td>0</td>\n",
              "    </tr>\n",
              "    <tr>\n",
              "      <th>87516</th>\n",
              "      <td>2020-02-28 15:36:00</td>\n",
              "      <td>0</td>\n",
              "    </tr>\n",
              "    <tr>\n",
              "      <th>87517</th>\n",
              "      <td>2020-02-28 15:42:00</td>\n",
              "      <td>0</td>\n",
              "    </tr>\n",
              "    <tr>\n",
              "      <th>87518</th>\n",
              "      <td>2020-02-28 15:48:00</td>\n",
              "      <td>0</td>\n",
              "    </tr>\n",
              "    <tr>\n",
              "      <th>87519</th>\n",
              "      <td>2020-02-28 15:54:00</td>\n",
              "      <td>0</td>\n",
              "    </tr>\n",
              "  </tbody>\n",
              "</table>\n",
              "<p>87520 rows × 2 columns</p>\n",
              "</div>"
            ],
            "text/plain": [
              "                timestamp  pulses\n",
              "0     2019-03-01 00:00:00       0\n",
              "1     2019-03-01 00:06:00       1\n",
              "2     2019-03-01 00:12:00       0\n",
              "3     2019-03-01 00:18:00       0\n",
              "4     2019-03-01 00:24:00       0\n",
              "...                   ...     ...\n",
              "87515 2020-02-28 15:30:00       0\n",
              "87516 2020-02-28 15:36:00       0\n",
              "87517 2020-02-28 15:42:00       0\n",
              "87518 2020-02-28 15:48:00       0\n",
              "87519 2020-02-28 15:54:00       0\n",
              "\n",
              "[87520 rows x 2 columns]"
            ]
          },
          "metadata": {
            "tags": []
          },
          "execution_count": 13
        }
      ]
    },
    {
      "cell_type": "code",
      "metadata": {
        "id": "pM7GkksPrYEI",
        "colab_type": "code",
        "colab": {}
      },
      "source": [
        "secondData(data2)\n"
      ],
      "execution_count": 0,
      "outputs": []
    },
    {
      "cell_type": "code",
      "metadata": {
        "id": "LqClv1wGrcEK",
        "colab_type": "code",
        "colab": {
          "base_uri": "https://localhost:8080/",
          "height": 764
        },
        "outputId": "cabd78a5-bab2-4cbf-8c42-6279b2be34bc"
      },
      "source": [
        "#Now let's see what our data looks like we want it with various patterns occurring over time.\n",
        "import seaborn as sns\n",
        "# Create the default pairplot\n",
        "sns.pairplot(data2)#, hue = 'pulses'"
      ],
      "execution_count": 15,
      "outputs": [
        {
          "output_type": "execute_result",
          "data": {
            "text/plain": [
              "<seaborn.axisgrid.PairGrid at 0x7fa3d5452fd0>"
            ]
          },
          "metadata": {
            "tags": []
          },
          "execution_count": 15
        },
        {
          "output_type": "display_data",
          "data": {
            "image/png": "[encoded data removed]",
            "text/plain": [
              "<Figure size 720x720 with 20 Axes>"
            ]
          },
          "metadata": {
            "tags": []
          }
        }
      ]
    },
    {
      "cell_type": "markdown",
      "metadata": {
        "id": "X__Ra_GGtCpK",
        "colab_type": "text"
      },
      "source": [
        "##First part of the Test \n",
        "writing an algorithm that will count the number of occurrences of water softener running over the course of the time of the dataset"
      ]
    },
    {
      "cell_type": "code",
      "metadata": {
        "id": "kszx3Vkordy6",
        "colab_type": "code",
        "colab": {}
      },
      "source": [
        "#we will create subset of data with our pulses values and then use shape \n",
        "def occurence(x_):\n",
        "  setOfPulseQuantity = set(data.pulses)\n",
        "  indexList=[]\n",
        "  if x_ in setOfPulseQuantity : \n",
        "    occuranceNumber= data[data['pulses'] ==x_].shape[0]\n",
        "    indexList.append(data[data['pulses'] ==x_].index)\n",
        "    print('the number of occurrences of {} pulse = {} littre(s)  is {} time(s)and this happend at \\n {} '.format(x_,x_*10,occuranceNumber, indexList))"
      ],
      "execution_count": 0,
      "outputs": []
    },
    {
      "cell_type": "markdown",
      "metadata": {
        "id": "tMsxmQzitJ2u",
        "colab_type": "text"
      },
      "source": [
        "##The construction of the models\n",
        "Now that we have done some initial discorery on our data,we first split the train and test data and use cross validation over the entire dataset. we also format our data so that it would be easier for us to analyze. We can use MinMaxScaler() to normalize the data between 0 and 1. Normalization help the process to become faster and help understand the network the data better.\n"
      ]
    },
    {
      "cell_type": "markdown",
      "metadata": {
        "id": "Yt0N8yJytSfV",
        "colab_type": "text"
      },
      "source": [
        "data preparation\n"
      ]
    },
    {
      "cell_type": "code",
      "metadata": {
        "id": "qC1hm1g_rl2L",
        "colab_type": "code",
        "colab": {}
      },
      "source": [
        "# splitting the dataset into the Training set and Test set\n",
        "#we are taiking the trainingset 80% OF THE DATA \n",
        "data=data.set_index(['timestamp'])\n",
        "train_len = int(len(data)-(len(data)/100)*80)\n",
        "train = data.iloc[:train_len]\n",
        "test = data.iloc[train_len:]\n",
        "\n"
      ],
      "execution_count": 0,
      "outputs": []
    },
    {
      "cell_type": "code",
      "metadata": {
        "id": "M-kzHQiqryT6",
        "colab_type": "code",
        "colab": {}
      },
      "source": [
        "scaler = MinMaxScaler(feature_range = (0,1))\n",
        "training_set_scaled = scaler.fit(train)\n",
        "scaled_train = scaler.transform(train)\n",
        "scaled_test = scaler.transform(test)"
      ],
      "execution_count": 0,
      "outputs": []
    },
    {
      "cell_type": "code",
      "metadata": {
        "id": "tN4ob_rCr0xS",
        "colab_type": "code",
        "colab": {}
      },
      "source": [
        "n_input = 12 #WINDOW_SIZE\n",
        "n_features= 1#= x_train.shape[-1]\n",
        "BATCH_SIZE=64\n",
        "generator = TimeseriesGenerator(scaled_train, scaled_train, length=n_input, batch_size=BATCH_SIZE)"
      ],
      "execution_count": 0,
      "outputs": []
    },
    {
      "cell_type": "markdown",
      "metadata": {
        "id": "a-rj5lF5tak9",
        "colab_type": "text"
      },
      "source": [
        "We will use a simple LSTM and try to see how it performs. We use three layers with few nodes to implement the model and mean square error for loss function. A summary of the entire block has been given below.\n",
        "\n",
        "We will use EarlyStopping to function in keras which can stop if we get a consistent low loss of the network."
      ]
    },
    {
      "cell_type": "code",
      "metadata": {
        "id": "ev0rkOBNr3g1",
        "colab_type": "code",
        "colab": {
          "base_uri": "https://localhost:8080/",
          "height": 258
        },
        "outputId": "363376e7-cac5-4668-cdf9-c67fcec5cf06"
      },
      "source": [
        "# define model \n",
        "model = Sequential()\n",
        "model.add(LSTM(120, activation='relu', return_sequences = True, input_shape=(n_input, n_features)))\n",
        "\n",
        "model.add(LSTM(120, activation='relu', return_sequences = True))\n",
        "model.add(Dropout(0.2))\n",
        "\n",
        "\n",
        "model.add(LSTM(120, activation='relu', return_sequences = False))\n",
        "model.add(Dropout(0.2))\n",
        "\n",
        "\n",
        "#model.add(Activation('linear'))\n",
        "model.add(Dense(1))\n",
        "model.compile(optimizer='adam', loss='mse')\n",
        "\n"
      ],
      "execution_count": 21,
      "outputs": [
        {
          "output_type": "stream",
          "text": [
            "WARNING:tensorflow:From /usr/local/lib/python3.6/dist-packages/keras/backend/tensorflow_backend.py:66: The name tf.get_default_graph is deprecated. Please use tf.compat.v1.get_default_graph instead.\n",
            "\n",
            "WARNING:tensorflow:From /usr/local/lib/python3.6/dist-packages/keras/backend/tensorflow_backend.py:541: The name tf.placeholder is deprecated. Please use tf.compat.v1.placeholder instead.\n",
            "\n",
            "WARNING:tensorflow:From /usr/local/lib/python3.6/dist-packages/keras/backend/tensorflow_backend.py:4432: The name tf.random_uniform is deprecated. Please use tf.random.uniform instead.\n",
            "\n",
            "WARNING:tensorflow:From /usr/local/lib/python3.6/dist-packages/keras/backend/tensorflow_backend.py:148: The name tf.placeholder_with_default is deprecated. Please use tf.compat.v1.placeholder_with_default instead.\n",
            "\n",
            "WARNING:tensorflow:From /usr/local/lib/python3.6/dist-packages/keras/backend/tensorflow_backend.py:3733: calling dropout (from tensorflow.python.ops.nn_ops) with keep_prob is deprecated and will be removed in a future version.\n",
            "Instructions for updating:\n",
            "Please use `rate` instead of `keep_prob`. Rate should be set to `rate = 1 - keep_prob`.\n",
            "WARNING:tensorflow:From /usr/local/lib/python3.6/dist-packages/keras/optimizers.py:793: The name tf.train.Optimizer is deprecated. Please use tf.compat.v1.train.Optimizer instead.\n",
            "\n"
          ],
          "name": "stdout"
        }
      ]
    },
    {
      "cell_type": "code",
      "metadata": {
        "id": "zlI8TYewr5d6",
        "colab_type": "code",
        "colab": {
          "base_uri": "https://localhost:8080/",
          "height": 357
        },
        "outputId": "85c7868c-cd3c-49f6-8cc1-5e93290a9eda"
      },
      "source": [
        "model.summary()"
      ],
      "execution_count": 22,
      "outputs": [
        {
          "output_type": "stream",
          "text": [
            "Model: \"sequential_1\"\n",
            "_________________________________________________________________\n",
            "Layer (type)                 Output Shape              Param #   \n",
            "=================================================================\n",
            "lstm_1 (LSTM)                (None, 12, 120)           58560     \n",
            "_________________________________________________________________\n",
            "lstm_2 (LSTM)                (None, 12, 120)           115680    \n",
            "_________________________________________________________________\n",
            "dropout_1 (Dropout)          (None, 12, 120)           0         \n",
            "_________________________________________________________________\n",
            "lstm_3 (LSTM)                (None, 120)               115680    \n",
            "_________________________________________________________________\n",
            "dropout_2 (Dropout)          (None, 120)               0         \n",
            "_________________________________________________________________\n",
            "dense_1 (Dense)              (None, 1)                 121       \n",
            "=================================================================\n",
            "Total params: 290,041\n",
            "Trainable params: 290,041\n",
            "Non-trainable params: 0\n",
            "_________________________________________________________________\n"
          ],
          "name": "stdout"
        }
      ]
    },
    {
      "cell_type": "code",
      "metadata": {
        "id": "uMsKVG_1r-yb",
        "colab_type": "code",
        "colab": {
          "base_uri": "https://localhost:8080/",
          "height": 1000
        },
        "outputId": "fce1a4f8-8d18-41c7-c8e4-187cafaf6b50"
      },
      "source": [
        "model.fit_generator(generator,epochs=BATCH_SIZE)"
      ],
      "execution_count": 23,
      "outputs": [
        {
          "output_type": "stream",
          "text": [
            "WARNING:tensorflow:From /usr/local/lib/python3.6/dist-packages/tensorflow_core/python/ops/math_grad.py:1424: where (from tensorflow.python.ops.array_ops) is deprecated and will be removed in a future version.\n",
            "Instructions for updating:\n",
            "Use tf.where in 2.0, which has the same broadcast rule as np.where\n",
            "WARNING:tensorflow:From /usr/local/lib/python3.6/dist-packages/keras/backend/tensorflow_backend.py:1033: The name tf.assign_add is deprecated. Please use tf.compat.v1.assign_add instead.\n",
            "\n",
            "WARNING:tensorflow:From /usr/local/lib/python3.6/dist-packages/keras/backend/tensorflow_backend.py:1020: The name tf.assign is deprecated. Please use tf.compat.v1.assign instead.\n",
            "\n",
            "WARNING:tensorflow:From /usr/local/lib/python3.6/dist-packages/keras/backend/tensorflow_backend.py:3005: The name tf.Session is deprecated. Please use tf.compat.v1.Session instead.\n",
            "\n",
            "Epoch 1/64\n",
            "WARNING:tensorflow:From /usr/local/lib/python3.6/dist-packages/keras/backend/tensorflow_backend.py:190: The name tf.get_default_session is deprecated. Please use tf.compat.v1.get_default_session instead.\n",
            "\n",
            "WARNING:tensorflow:From /usr/local/lib/python3.6/dist-packages/keras/backend/tensorflow_backend.py:197: The name tf.ConfigProto is deprecated. Please use tf.compat.v1.ConfigProto instead.\n",
            "\n",
            "WARNING:tensorflow:From /usr/local/lib/python3.6/dist-packages/keras/backend/tensorflow_backend.py:207: The name tf.global_variables is deprecated. Please use tf.compat.v1.global_variables instead.\n",
            "\n",
            "WARNING:tensorflow:From /usr/local/lib/python3.6/dist-packages/keras/backend/tensorflow_backend.py:216: The name tf.is_variable_initialized is deprecated. Please use tf.compat.v1.is_variable_initialized instead.\n",
            "\n",
            "WARNING:tensorflow:From /usr/local/lib/python3.6/dist-packages/keras/backend/tensorflow_backend.py:223: The name tf.variables_initializer is deprecated. Please use tf.compat.v1.variables_initializer instead.\n",
            "\n",
            "274/274 [==============================] - 23s 84ms/step - loss: 0.0093\n",
            "Epoch 2/64\n",
            "274/274 [==============================] - 21s 75ms/step - loss: 0.0081\n",
            "Epoch 3/64\n",
            "274/274 [==============================] - 21s 75ms/step - loss: 0.0082\n",
            "Epoch 4/64\n",
            "274/274 [==============================] - 21s 75ms/step - loss: 0.0078\n",
            "Epoch 5/64\n",
            "274/274 [==============================] - 21s 75ms/step - loss: 0.0076\n",
            "Epoch 6/64\n",
            "274/274 [==============================] - 20s 75ms/step - loss: 0.0078\n",
            "Epoch 7/64\n",
            "274/274 [==============================] - 21s 75ms/step - loss: 0.0076\n",
            "Epoch 8/64\n",
            "274/274 [==============================] - 21s 75ms/step - loss: 0.0076\n",
            "Epoch 9/64\n",
            "274/274 [==============================] - 20s 75ms/step - loss: 0.0076\n",
            "Epoch 10/64\n",
            "274/274 [==============================] - 21s 75ms/step - loss: 0.0076\n",
            "Epoch 11/64\n",
            "274/274 [==============================] - 20s 74ms/step - loss: 0.0075\n",
            "Epoch 12/64\n",
            "274/274 [==============================] - 20s 74ms/step - loss: 0.0076\n",
            "Epoch 13/64\n",
            "274/274 [==============================] - 20s 75ms/step - loss: 0.0076\n",
            "Epoch 14/64\n",
            "274/274 [==============================] - 20s 75ms/step - loss: 0.0075\n",
            "Epoch 15/64\n",
            "274/274 [==============================] - 21s 75ms/step - loss: 0.0075\n",
            "Epoch 16/64\n",
            "274/274 [==============================] - 21s 75ms/step - loss: 0.0075\n",
            "Epoch 17/64\n",
            "274/274 [==============================] - 21s 75ms/step - loss: 0.0075\n",
            "Epoch 18/64\n",
            "274/274 [==============================] - 21s 75ms/step - loss: 0.0074\n",
            "Epoch 19/64\n",
            "274/274 [==============================] - 20s 74ms/step - loss: 0.0076\n",
            "Epoch 20/64\n",
            "274/274 [==============================] - 21s 75ms/step - loss: 0.0075\n",
            "Epoch 21/64\n",
            "274/274 [==============================] - 21s 75ms/step - loss: 0.0074\n",
            "Epoch 22/64\n",
            "274/274 [==============================] - 21s 75ms/step - loss: 0.0074\n",
            "Epoch 23/64\n",
            "274/274 [==============================] - 20s 74ms/step - loss: 0.0074\n",
            "Epoch 24/64\n",
            "274/274 [==============================] - 20s 75ms/step - loss: 0.0074\n",
            "Epoch 25/64\n",
            "274/274 [==============================] - 21s 75ms/step - loss: 0.0075\n",
            "Epoch 26/64\n",
            "274/274 [==============================] - 20s 75ms/step - loss: 0.0074\n",
            "Epoch 27/64\n",
            "274/274 [==============================] - 20s 74ms/step - loss: 0.0074\n",
            "Epoch 28/64\n",
            "274/274 [==============================] - 21s 75ms/step - loss: 0.0074\n",
            "Epoch 29/64\n",
            "274/274 [==============================] - 20s 74ms/step - loss: 0.0074\n",
            "Epoch 30/64\n",
            "274/274 [==============================] - 20s 74ms/step - loss: 0.0074\n",
            "Epoch 31/64\n",
            "274/274 [==============================] - 20s 75ms/step - loss: 0.0074\n",
            "Epoch 32/64\n",
            "274/274 [==============================] - 20s 75ms/step - loss: 0.0074\n",
            "Epoch 33/64\n",
            "274/274 [==============================] - 21s 75ms/step - loss: 0.0073\n",
            "Epoch 34/64\n",
            "274/274 [==============================] - 20s 75ms/step - loss: 0.0074\n",
            "Epoch 35/64\n",
            "274/274 [==============================] - 20s 75ms/step - loss: 0.0074\n",
            "Epoch 36/64\n",
            "274/274 [==============================] - 21s 75ms/step - loss: 0.0074\n",
            "Epoch 37/64\n",
            "274/274 [==============================] - 21s 75ms/step - loss: 0.0073\n",
            "Epoch 38/64\n",
            "274/274 [==============================] - 21s 75ms/step - loss: 0.0074\n",
            "Epoch 39/64\n",
            "274/274 [==============================] - 21s 75ms/step - loss: 0.0073\n",
            "Epoch 40/64\n",
            "274/274 [==============================] - 21s 75ms/step - loss: 0.0073\n",
            "Epoch 41/64\n",
            "274/274 [==============================] - 21s 75ms/step - loss: 0.0073\n",
            "Epoch 42/64\n",
            "274/274 [==============================] - 21s 75ms/step - loss: 0.0073\n",
            "Epoch 43/64\n",
            "274/274 [==============================] - 21s 75ms/step - loss: 0.0074\n",
            "Epoch 44/64\n",
            "274/274 [==============================] - 20s 75ms/step - loss: 0.0074\n",
            "Epoch 45/64\n",
            "274/274 [==============================] - 21s 75ms/step - loss: 0.0073\n",
            "Epoch 46/64\n",
            "274/274 [==============================] - 21s 76ms/step - loss: 0.0073\n",
            "Epoch 47/64\n",
            "274/274 [==============================] - 21s 75ms/step - loss: 0.0074\n",
            "Epoch 48/64\n",
            "274/274 [==============================] - 21s 76ms/step - loss: 0.0073\n",
            "Epoch 49/64\n",
            "274/274 [==============================] - 21s 75ms/step - loss: 0.0073\n",
            "Epoch 50/64\n",
            "274/274 [==============================] - 21s 75ms/step - loss: 0.0073\n",
            "Epoch 51/64\n",
            "274/274 [==============================] - 21s 76ms/step - loss: 0.0073\n",
            "Epoch 52/64\n",
            "274/274 [==============================] - 21s 76ms/step - loss: 0.0073\n",
            "Epoch 53/64\n",
            "274/274 [==============================] - 21s 75ms/step - loss: 0.0073\n",
            "Epoch 54/64\n",
            "274/274 [==============================] - 21s 75ms/step - loss: 0.0073\n",
            "Epoch 55/64\n",
            "274/274 [==============================] - 21s 75ms/step - loss: 0.0073\n",
            "Epoch 56/64\n",
            "274/274 [==============================] - 21s 76ms/step - loss: 0.0073\n",
            "Epoch 57/64\n",
            "274/274 [==============================] - 21s 76ms/step - loss: 0.0073\n",
            "Epoch 58/64\n",
            "274/274 [==============================] - 21s 76ms/step - loss: 0.0074\n",
            "Epoch 59/64\n",
            "274/274 [==============================] - 21s 75ms/step - loss: 0.0073\n",
            "Epoch 60/64\n",
            "274/274 [==============================] - 21s 75ms/step - loss: 0.0073\n",
            "Epoch 61/64\n",
            "274/274 [==============================] - 21s 75ms/step - loss: 0.0073\n",
            "Epoch 62/64\n",
            "274/274 [==============================] - 21s 76ms/step - loss: 0.0072\n",
            "Epoch 63/64\n",
            "274/274 [==============================] - 21s 76ms/step - loss: 0.0072\n",
            "Epoch 64/64\n",
            "274/274 [==============================] - 21s 76ms/step - loss: 0.0072\n"
          ],
          "name": "stdout"
        },
        {
          "output_type": "execute_result",
          "data": {
            "text/plain": [
              "<keras.callbacks.History at 0x7fa3d13a4f98>"
            ]
          },
          "metadata": {
            "tags": []
          },
          "execution_count": 23
        }
      ]
    },
    {
      "cell_type": "code",
      "metadata": {
        "id": "bDQRR_issBzH",
        "colab_type": "code",
        "colab": {
          "base_uri": "https://localhost:8080/",
          "height": 34
        },
        "outputId": "4dd325c9-c118-4e57-95e6-8bac7b73564f"
      },
      "source": [
        "#Learning histrory\n",
        "model.history.history.keys()"
      ],
      "execution_count": 24,
      "outputs": [
        {
          "output_type": "execute_result",
          "data": {
            "text/plain": [
              "dict_keys(['loss'])"
            ]
          },
          "metadata": {
            "tags": []
          },
          "execution_count": 24
        }
      ]
    },
    {
      "cell_type": "code",
      "metadata": {
        "id": "euxa4BAdsGO9",
        "colab_type": "code",
        "colab": {
          "base_uri": "https://localhost:8080/",
          "height": 282
        },
        "outputId": "8372aa4e-4ab8-4391-96e9-235ec65ba85c"
      },
      "source": [
        "#plot de fct loss\n",
        "loss_per_epoch = model.history.history['loss']\n",
        "plt.plot(range(len(loss_per_epoch)),loss_per_epoch)"
      ],
      "execution_count": 25,
      "outputs": [
        {
          "output_type": "execute_result",
          "data": {
            "text/plain": [
              "[<matplotlib.lines.Line2D at 0x7fa3c7c28ef0>]"
            ]
          },
          "metadata": {
            "tags": []
          },
          "execution_count": 25
        },
        {
          "output_type": "display_data",
          "data": {
            "image/png": "[encoded data removed]",
            "text/plain": [
              "<Figure size 432x288 with 1 Axes>"
            ]
          },
          "metadata": {
            "tags": []
          }
        }
      ]
    },
    {
      "cell_type": "code",
      "metadata": {
        "id": "Xxl9LGAesG1a",
        "colab_type": "code",
        "colab": {}
      },
      "source": [
        "#first_eval_batch = scaled_train[-12:]"
      ],
      "execution_count": 0,
      "outputs": []
    },
    {
      "cell_type": "code",
      "metadata": {
        "id": "XrRONdUlsI18",
        "colab_type": "code",
        "colab": {}
      },
      "source": [
        "#first_eval_batch = first_eval_batch.reshape((1, n_input, n_features))"
      ],
      "execution_count": 0,
      "outputs": []
    },
    {
      "cell_type": "code",
      "metadata": {
        "id": "eR_fU2mMsK3m",
        "colab_type": "code",
        "colab": {}
      },
      "source": [
        ""
      ],
      "execution_count": 0,
      "outputs": []
    },
    {
      "cell_type": "code",
      "metadata": {
        "id": "58vxmIXjsRDZ",
        "colab_type": "code",
        "colab": {}
      },
      "source": [
        ""
      ],
      "execution_count": 0,
      "outputs": []
    },
    {
      "cell_type": "markdown",
      "metadata": {
        "id": "G1ttc3ZltjGK",
        "colab_type": "text"
      },
      "source": [
        "#GRU mode\n",
        "remark : we create GRU mode with the same parameteres and configurations of LSTM ( to make some importante insites)"
      ]
    },
    {
      "cell_type": "code",
      "metadata": {
        "id": "wDaZjRAzsRTb",
        "colab_type": "code",
        "colab": {}
      },
      "source": [
        "from keras.layers.normalization import BatchNormalization\n",
        "\n",
        "model2 = Sequential()\n",
        "model2.add(GRU(128,return_sequences=True, input_shape=(n_input,n_features)))\n",
        "model2.add(Dropout(0.2))\n",
        "model2.add(BatchNormalization())\n",
        "model2.add(GRU(128,return_sequences=False))\n",
        "model2.add(BatchNormalization())\n",
        "model2.add(Dropout(0.2))\n",
        "model2.add(Dense(1))\n",
        "model2.compile(optimizer='adam', loss='mse')\n"
      ],
      "execution_count": 0,
      "outputs": []
    },
    {
      "cell_type": "code",
      "metadata": {
        "id": "OrdMwtUe0qHU",
        "colab_type": "code",
        "colab": {
          "base_uri": "https://localhost:8080/",
          "height": 391
        },
        "outputId": "03b3593e-c184-4571-bd1c-a479bbd6d23c"
      },
      "source": [
        "model2.summary()"
      ],
      "execution_count": 34,
      "outputs": [
        {
          "output_type": "stream",
          "text": [
            "Model: \"sequential_3\"\n",
            "_________________________________________________________________\n",
            "Layer (type)                 Output Shape              Param #   \n",
            "=================================================================\n",
            "gru_2 (GRU)                  (None, 12, 128)           49920     \n",
            "_________________________________________________________________\n",
            "dropout_4 (Dropout)          (None, 12, 128)           0         \n",
            "_________________________________________________________________\n",
            "batch_normalization_1 (Batch (None, 12, 128)           512       \n",
            "_________________________________________________________________\n",
            "gru_3 (GRU)                  (None, 128)               98688     \n",
            "_________________________________________________________________\n",
            "batch_normalization_2 (Batch (None, 128)               512       \n",
            "_________________________________________________________________\n",
            "dropout_5 (Dropout)          (None, 128)               0         \n",
            "_________________________________________________________________\n",
            "dense_2 (Dense)              (None, 1)                 129       \n",
            "=================================================================\n",
            "Total params: 149,761\n",
            "Trainable params: 149,249\n",
            "Non-trainable params: 512\n",
            "_________________________________________________________________\n"
          ],
          "name": "stdout"
        }
      ]
    },
    {
      "cell_type": "markdown",
      "metadata": {
        "id": "MKSxvcZf0rMP",
        "colab_type": "text"
      },
      "source": [
        "Here, both LSTM and GRU had the same architecture but the number of parameters in LSTM is 290,41 whereas GRU in GRU is 149.761. As we already discussed the differences, GRU with two gates compared to LSTM that has three gates. GRU has fewer parameters it is computationally more efficient than LSTM."
      ]
    },
    {
      "cell_type": "code",
      "metadata": {
        "id": "2xNB1yPdsSsh",
        "colab_type": "code",
        "colab": {
          "base_uri": "https://localhost:8080/",
          "height": 1000
        },
        "outputId": "70d88f56-7ff0-4399-e91b-aa06b44ef61a"
      },
      "source": [
        "model2.fit_generator(generator,epochs=BATCH_SIZE)"
      ],
      "execution_count": 30,
      "outputs": [
        {
          "output_type": "stream",
          "text": [
            "Epoch 1/64\n",
            "274/274 [==============================] - 14s 51ms/step - loss: 0.3953\n",
            "Epoch 2/64\n",
            "274/274 [==============================] - 12s 44ms/step - loss: 0.1609\n",
            "Epoch 3/64\n",
            "274/274 [==============================] - 12s 45ms/step - loss: 0.0883\n",
            "Epoch 4/64\n",
            "274/274 [==============================] - 12s 44ms/step - loss: 0.0488\n",
            "Epoch 5/64\n",
            "274/274 [==============================] - 12s 45ms/step - loss: 0.0320\n",
            "Epoch 6/64\n",
            "274/274 [==============================] - 12s 45ms/step - loss: 0.0253\n",
            "Epoch 7/64\n",
            "274/274 [==============================] - 12s 45ms/step - loss: 0.0231\n",
            "Epoch 8/64\n",
            "274/274 [==============================] - 13s 46ms/step - loss: 0.0219\n",
            "Epoch 9/64\n",
            "274/274 [==============================] - 12s 45ms/step - loss: 0.0209\n",
            "Epoch 10/64\n",
            "274/274 [==============================] - 12s 45ms/step - loss: 0.0204\n",
            "Epoch 11/64\n",
            "274/274 [==============================] - 12s 45ms/step - loss: 0.0204\n",
            "Epoch 12/64\n",
            "274/274 [==============================] - 12s 45ms/step - loss: 0.0202\n",
            "Epoch 13/64\n",
            "274/274 [==============================] - 12s 45ms/step - loss: 0.0203\n",
            "Epoch 14/64\n",
            "274/274 [==============================] - 12s 45ms/step - loss: 0.0202\n",
            "Epoch 15/64\n",
            "274/274 [==============================] - 13s 46ms/step - loss: 0.0203\n",
            "Epoch 16/64\n",
            "274/274 [==============================] - 12s 45ms/step - loss: 0.0205\n",
            "Epoch 17/64\n",
            "274/274 [==============================] - 12s 45ms/step - loss: 0.0204\n",
            "Epoch 18/64\n",
            "274/274 [==============================] - 12s 45ms/step - loss: 0.0204\n",
            "Epoch 19/64\n",
            "274/274 [==============================] - 12s 45ms/step - loss: 0.0206\n",
            "Epoch 20/64\n",
            "274/274 [==============================] - 12s 45ms/step - loss: 0.0204\n",
            "Epoch 21/64\n",
            "274/274 [==============================] - 12s 45ms/step - loss: 0.0206\n",
            "Epoch 22/64\n",
            "274/274 [==============================] - 12s 45ms/step - loss: 0.0207\n",
            "Epoch 23/64\n",
            "274/274 [==============================] - 12s 45ms/step - loss: 0.0205\n",
            "Epoch 24/64\n",
            "274/274 [==============================] - 12s 45ms/step - loss: 0.0207\n",
            "Epoch 25/64\n",
            "274/274 [==============================] - 13s 46ms/step - loss: 0.0206\n",
            "Epoch 26/64\n",
            "274/274 [==============================] - 12s 45ms/step - loss: 0.0208\n",
            "Epoch 27/64\n",
            "274/274 [==============================] - 13s 46ms/step - loss: 0.0207\n",
            "Epoch 28/64\n",
            "274/274 [==============================] - 12s 45ms/step - loss: 0.0206\n",
            "Epoch 29/64\n",
            "274/274 [==============================] - 13s 46ms/step - loss: 0.0205\n",
            "Epoch 30/64\n",
            "274/274 [==============================] - 13s 46ms/step - loss: 0.0207\n",
            "Epoch 31/64\n",
            "274/274 [==============================] - 13s 46ms/step - loss: 0.0206\n",
            "Epoch 32/64\n",
            "274/274 [==============================] - 12s 45ms/step - loss: 0.0205\n",
            "Epoch 33/64\n",
            "274/274 [==============================] - 13s 46ms/step - loss: 0.0207\n",
            "Epoch 34/64\n",
            "274/274 [==============================] - 13s 46ms/step - loss: 0.0203\n",
            "Epoch 35/64\n",
            "274/274 [==============================] - 13s 46ms/step - loss: 0.0206\n",
            "Epoch 36/64\n",
            "274/274 [==============================] - 13s 46ms/step - loss: 0.0204\n",
            "Epoch 37/64\n",
            "274/274 [==============================] - 13s 46ms/step - loss: 0.0205\n",
            "Epoch 38/64\n",
            "274/274 [==============================] - 13s 46ms/step - loss: 0.0204\n",
            "Epoch 39/64\n",
            "274/274 [==============================] - 13s 46ms/step - loss: 0.0203\n",
            "Epoch 40/64\n",
            "274/274 [==============================] - 13s 46ms/step - loss: 0.0204\n",
            "Epoch 41/64\n",
            "274/274 [==============================] - 13s 47ms/step - loss: 0.0204\n",
            "Epoch 42/64\n",
            "274/274 [==============================] - 13s 46ms/step - loss: 0.0203\n",
            "Epoch 43/64\n",
            "274/274 [==============================] - 13s 46ms/step - loss: 0.0203\n",
            "Epoch 44/64\n",
            "274/274 [==============================] - 13s 46ms/step - loss: 0.0204\n",
            "Epoch 45/64\n",
            "274/274 [==============================] - 13s 46ms/step - loss: 0.0202\n",
            "Epoch 46/64\n",
            "274/274 [==============================] - 13s 46ms/step - loss: 0.0203\n",
            "Epoch 47/64\n",
            "274/274 [==============================] - 13s 46ms/step - loss: 0.0202\n",
            "Epoch 48/64\n",
            "274/274 [==============================] - 13s 46ms/step - loss: 0.0202\n",
            "Epoch 49/64\n",
            "274/274 [==============================] - 13s 46ms/step - loss: 0.0201\n",
            "Epoch 50/64\n",
            "274/274 [==============================] - 13s 46ms/step - loss: 0.0203\n",
            "Epoch 51/64\n",
            "274/274 [==============================] - 13s 46ms/step - loss: 0.0202\n",
            "Epoch 52/64\n",
            "274/274 [==============================] - 13s 46ms/step - loss: 0.0201\n",
            "Epoch 53/64\n",
            "274/274 [==============================] - 12s 45ms/step - loss: 0.0201\n",
            "Epoch 54/64\n",
            "274/274 [==============================] - 12s 45ms/step - loss: 0.0202\n",
            "Epoch 55/64\n",
            "274/274 [==============================] - 12s 45ms/step - loss: 0.0202\n",
            "Epoch 56/64\n",
            "274/274 [==============================] - 13s 46ms/step - loss: 0.0201\n",
            "Epoch 57/64\n",
            "274/274 [==============================] - 13s 46ms/step - loss: 0.0201\n",
            "Epoch 58/64\n",
            "274/274 [==============================] - 12s 45ms/step - loss: 0.0201\n",
            "Epoch 59/64\n",
            "274/274 [==============================] - 12s 45ms/step - loss: 0.0201\n",
            "Epoch 60/64\n",
            "274/274 [==============================] - 12s 44ms/step - loss: 0.0200\n",
            "Epoch 61/64\n",
            "274/274 [==============================] - 12s 44ms/step - loss: 0.0201\n",
            "Epoch 62/64\n",
            "274/274 [==============================] - 12s 45ms/step - loss: 0.0202\n",
            "Epoch 63/64\n",
            "274/274 [==============================] - 12s 45ms/step - loss: 0.0202\n",
            "Epoch 64/64\n",
            "274/274 [==============================] - 12s 44ms/step - loss: 0.0200\n"
          ],
          "name": "stdout"
        },
        {
          "output_type": "execute_result",
          "data": {
            "text/plain": [
              "<keras.callbacks.History at 0x7fa3c3c91eb8>"
            ]
          },
          "metadata": {
            "tags": []
          },
          "execution_count": 30
        }
      ]
    },
    {
      "cell_type": "code",
      "metadata": {
        "id": "-fmgbLo9sVug",
        "colab_type": "code",
        "colab": {
          "base_uri": "https://localhost:8080/",
          "height": 34
        },
        "outputId": "c60fa547-ed2d-4785-845d-7628a89e54b4"
      },
      "source": [
        "#Learning histrory\n",
        "model2.history.history.keys()"
      ],
      "execution_count": 32,
      "outputs": [
        {
          "output_type": "execute_result",
          "data": {
            "text/plain": [
              "dict_keys(['loss'])"
            ]
          },
          "metadata": {
            "tags": []
          },
          "execution_count": 32
        }
      ]
    },
    {
      "cell_type": "code",
      "metadata": {
        "id": "sVrHtQQHz7Zb",
        "colab_type": "code",
        "colab": {
          "base_uri": "https://localhost:8080/",
          "height": 282
        },
        "outputId": "dcbf7d24-6a8c-434d-afb4-6f44a6e33e07"
      },
      "source": [
        "#plot de fct loss\n",
        "loss2_per_epoch = model2.history.history['loss']\n",
        "plt.plot(range(len(loss2_per_epoch)),loss2_per_epoch)"
      ],
      "execution_count": 33,
      "outputs": [
        {
          "output_type": "execute_result",
          "data": {
            "text/plain": [
              "[<matplotlib.lines.Line2D at 0x7fa3c7b5e908>]"
            ]
          },
          "metadata": {
            "tags": []
          },
          "execution_count": 33
        },
        {
          "output_type": "display_data",
          "data": {
            "image/png": "[encoded data removed]",
            "text/plain": [
              "<Figure size 432x288 with 1 Axes>"
            ]
          },
          "metadata": {
            "tags": []
          }
        }
      ]
    },
    {
      "cell_type": "code",
      "metadata": {
        "id": "HrWuSXKw1Ejg",
        "colab_type": "code",
        "colab": {}
      },
      "source": [
        ""
      ],
      "execution_count": 0,
      "outputs": []
    },
    {
      "cell_type": "markdown",
      "metadata": {
        "id": "udpE0b-T1dOp",
        "colab_type": "text"
      },
      "source": [
        "#Models evaluation\n"
      ]
    },
    {
      "cell_type": "code",
      "metadata": {
        "id": "9JiWja3J1ffy",
        "colab_type": "code",
        "colab": {}
      },
      "source": [
        "#Diagnostic Plots\n",
        "#The training history of both LSTM & GRU models are used to diagnose the behavior\n",
        "#of the models. I have created a single plot for the ease of convenience."
      ],
      "execution_count": 0,
      "outputs": []
    },
    {
      "cell_type": "code",
      "metadata": {
        "id": "z--3Ut5j1qlO",
        "colab_type": "code",
        "colab": {
          "base_uri": "https://localhost:8080/",
          "height": 404
        },
        "outputId": "131a32de-1ad2-48f5-8102-63d8d07e3d9c"
      },
      "source": [
        "plt.figure(figsize=(10, 6))\n",
        "plt.plot(range(len(loss_per_epoch)),loss_per_epoch, label='LSTM train', color='red')\n",
        "plt.plot(range(len(loss2_per_epoch)),loss2_per_epoch, label='GRU train', color='green')\n",
        "plt.xlabel('epochs')\n",
        "plt.ylabel('loss')\n",
        "plt.legend()\n",
        "plt.title('Training and Validation loss')\n",
        "plt.show()\n"
      ],
      "execution_count": 45,
      "outputs": [
        {
          "output_type": "display_data",
          "data": {
            "image/png": "[encoded data removed]",
            "text/plain": [
              "<Figure size 720x432 with 1 Axes>"
            ]
          },
          "metadata": {
            "tags": []
          }
        }
      ]
    },
    {
      "cell_type": "code",
      "metadata": {
        "id": "TWlMZCuC3fpg",
        "colab_type": "code",
        "colab": {}
      },
      "source": [
        ""
      ],
      "execution_count": 0,
      "outputs": []
    },
    {
      "cell_type": "code",
      "metadata": {
        "id": "f_oeNcb_5nhU",
        "colab_type": "code",
        "colab": {}
      },
      "source": [
        ""
      ],
      "execution_count": 0,
      "outputs": []
    }
  ]
}